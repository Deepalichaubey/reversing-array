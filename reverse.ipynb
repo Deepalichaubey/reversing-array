{
 "cells": [
  {
   "cell_type": "code",
   "execution_count": 1,
   "id": "ba3070aa-4ad3-476a-bcec-f1017f6f49a9",
   "metadata": {},
   "outputs": [
    {
     "name": "stdout",
     "output_type": "stream",
     "text": [
      "Original array: [1 2 3 4 5]\n",
      "Reversed array: [5 4 3 2 1]\n"
     ]
    }
   ],
   "source": [
    "#Reversing a 1D Array (Vector):\n",
    "#For a 1D array, you can use the [::-1] slicing notation to reverse the order of elements. This creates a new reversed array without modifying the original.\n",
    "#Example:\n",
    "\n",
    "\n",
    "import numpy as np\n",
    "\n",
    "array = np.array([1, 2, 3, 4, 5])\n",
    "reversed_array = array[::-1]\n",
    "\n",
    "print(\"Original array:\", array)\n",
    "print(\"Reversed array:\", reversed_array)\n"
   ]
  },
  {
   "cell_type": "code",
   "execution_count": 2,
   "id": "8938209d-92f8-4f71-80d9-2dba3dab46d8",
   "metadata": {},
   "outputs": [
    {
     "name": "stdout",
     "output_type": "stream",
     "text": [
      "Original array: [1 2 3 4 5 6]\n",
      "[6 5 4 3 2 1]\n"
     ]
    }
   ],
   "source": [
    "import numpy as np\n",
    "\n",
    "array = np.array([1, 2, 3, 4, 5, 6])\n",
    "reversed_array = np.flip(array)\n",
    "print(\"Original array:\", array)\n",
    "print(reversed_array)\n"
   ]
  },
  {
   "cell_type": "code",
   "execution_count": 3,
   "id": "c8f5df16-47ce-4b94-89d9-908264d6585e",
   "metadata": {},
   "outputs": [
    {
     "name": "stdout",
     "output_type": "stream",
     "text": [
      "Original array:\n",
      "[[1 2 3]\n",
      " [4 5 6]\n",
      " [7 8 9]]\n",
      "\n",
      "Reversed rows:\n",
      "[[7 8 9]\n",
      " [4 5 6]\n",
      " [1 2 3]]\n"
     ]
    }
   ],
   "source": [
    "#Reversing a 2D Array :\n",
    "#using the np.flip() function to reverse the rows, columns, or both.\n",
    "#Examples:\n",
    "#Reversing rows (along the first axis):\n",
    "\n",
    "\n",
    "array = np.array([[1, 2, 3], [4, 5, 6], [7, 8, 9]])\n",
    "reversed_rows = np.flip(array, axis=0)\n",
    "\n",
    "print(\"Original array:\")\n",
    "print(array)\n",
    "print(\"\\nReversed rows:\")\n",
    "print(reversed_rows)\n"
   ]
  },
  {
   "cell_type": "code",
   "execution_count": 4,
   "id": "140ac94b-ab99-4b43-817f-ebdc0dab2032",
   "metadata": {},
   "outputs": [
    {
     "name": "stdout",
     "output_type": "stream",
     "text": [
      "[[7 8 9]\n",
      " [4 5 6]\n",
      " [1 2 3]]\n"
     ]
    }
   ],
   "source": [
    "#Reversing Rows (Axis 0)\n",
    "#using slicing with [::-1, :]:\n",
    "\n",
    "reversed_rows_arr = array[::-1, :]\n",
    "print(reversed_rows_arr)"
   ]
  },
  {
   "cell_type": "code",
   "execution_count": 5,
   "id": "8c5b82c9-5f80-46a7-8f03-5d0d5a0ca23f",
   "metadata": {},
   "outputs": [
    {
     "name": "stdout",
     "output_type": "stream",
     "text": [
      "Reversed columns:\n",
      "[[3 2 1]\n",
      " [6 5 4]\n",
      " [9 8 7]]\n"
     ]
    }
   ],
   "source": [
    "#Reversing columns (along the second axis):\n",
    "\n",
    "reversed_columns= np.flip(array, axis=1)\n",
    "\n",
    "print(\"Reversed columns:\")\n",
    "print(reversed_columns)"
   ]
  },
  {
   "cell_type": "code",
   "execution_count": 6,
   "id": "70ee23f2-65d8-4b11-b41c-775a8091635f",
   "metadata": {},
   "outputs": [
    {
     "name": "stdout",
     "output_type": "stream",
     "text": [
      "[[3 2 1]\n",
      " [6 5 4]\n",
      " [9 8 7]]\n"
     ]
    }
   ],
   "source": [
    "#Reversing Columns (Axis 1)\n",
    "#To reverse the columns of a 2D array, you can use slicing with [:, ::-1]:\n",
    "\n",
    "reversed_columns_arr = array[:, ::-1]\n",
    "print(reversed_columns_arr)"
   ]
  },
  {
   "cell_type": "code",
   "execution_count": 7,
   "id": "890c6984-2212-4cfa-b7c6-404bcc9fb7c4",
   "metadata": {},
   "outputs": [
    {
     "name": "stdout",
     "output_type": "stream",
     "text": [
      "Reversed both array:\n",
      "[[9 8 7]\n",
      " [6 5 4]\n",
      " [3 2 1]]\n"
     ]
    }
   ],
   "source": [
    "#Reversing both rows and columns:\n",
    "\n",
    "reversed_both = np.flip(array, axis=(0, 1))\n",
    "\n",
    "print(\"Reversed both array:\")\n",
    "print(reversed_both)"
   ]
  },
  {
   "cell_type": "code",
   "execution_count": null,
   "id": "cce36b2a-a7b3-438e-9dc9-10a634f3e7e2",
   "metadata": {},
   "outputs": [],
   "source": []
  }
 ],
 "metadata": {
  "kernelspec": {
   "display_name": "Python 3 (ipykernel)",
   "language": "python",
   "name": "python3"
  },
  "language_info": {
   "codemirror_mode": {
    "name": "ipython",
    "version": 3
   },
   "file_extension": ".py",
   "mimetype": "text/x-python",
   "name": "python",
   "nbconvert_exporter": "python",
   "pygments_lexer": "ipython3",
   "version": "3.10.8"
  }
 },
 "nbformat": 4,
 "nbformat_minor": 5
}
